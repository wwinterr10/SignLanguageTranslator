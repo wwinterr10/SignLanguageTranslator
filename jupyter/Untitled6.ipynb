{
 "cells": [
  {
   "cell_type": "code",
   "execution_count": 1,
   "id": "aec6ffa6-b553-4f41-a8ce-3d4b7e8af80e",
   "metadata": {},
   "outputs": [
    {
     "name": "stdout",
     "output_type": "stream",
     "text": [
      "Found existing installation: numpy 1.26.4\n",
      "Uninstalling numpy-1.26.4:\n",
      "  Successfully uninstalled numpy-1.26.4\n"
     ]
    }
   ],
   "source": [
    "!pip uninstall numpy -y"
   ]
  },
  {
   "cell_type": "code",
   "execution_count": 2,
   "id": "914552f5-62e7-48c3-b547-a97a586bac63",
   "metadata": {},
   "outputs": [
    {
     "name": "stdout",
     "output_type": "stream",
     "text": [
      "Collecting numpy==1.26.4\n",
      "  Using cached numpy-1.26.4-cp310-cp310-win_amd64.whl.metadata (61 kB)\n",
      "Using cached numpy-1.26.4-cp310-cp310-win_amd64.whl (15.8 MB)\n",
      "Installing collected packages: numpy\n",
      "Successfully installed numpy-1.26.4\n"
     ]
    },
    {
     "name": "stderr",
     "output_type": "stream",
     "text": [
      "ERROR: pip's dependency resolver does not currently take into account all the packages that are installed. This behaviour is the source of the following dependency conflicts.\n",
      "mediapipe 0.10.14 requires protobuf<5,>=4.25.3, but you have protobuf 3.19.4 which is incompatible.\n"
     ]
    }
   ],
   "source": [
    "!pip install numpy==1.26.4"
   ]
  },
  {
   "cell_type": "code",
   "execution_count": 3,
   "id": "23feddd2-25cc-4d7a-920d-64ea2642dc92",
   "metadata": {},
   "outputs": [
    {
     "name": "stdout",
     "output_type": "stream",
     "text": [
      "Collecting scikit-learn\n",
      "  Downloading scikit_learn-1.5.1-cp310-cp310-win_amd64.whl.metadata (12 kB)\n",
      "Requirement already satisfied: numpy>=1.19.5 in c:\\users\\user\\anaconda3\\envs\\mediapipe_project_env01\\lib\\site-packages (from scikit-learn) (1.26.4)\n",
      "Requirement already satisfied: scipy>=1.6.0 in c:\\users\\user\\anaconda3\\envs\\mediapipe_project_env01\\lib\\site-packages (from scikit-learn) (1.14.0)\n",
      "Collecting joblib>=1.2.0 (from scikit-learn)\n",
      "  Using cached joblib-1.4.2-py3-none-any.whl.metadata (5.4 kB)\n",
      "Collecting threadpoolctl>=3.1.0 (from scikit-learn)\n",
      "  Using cached threadpoolctl-3.5.0-py3-none-any.whl.metadata (13 kB)\n",
      "Downloading scikit_learn-1.5.1-cp310-cp310-win_amd64.whl (11.0 MB)\n",
      "   ---------------------------------------- 0.0/11.0 MB ? eta -:--:--\n",
      "   ---------------------------------------- 0.0/11.0 MB 1.9 MB/s eta 0:00:06\n",
      "   - -------------------------------------- 0.5/11.0 MB 5.9 MB/s eta 0:00:02\n",
      "   ---- ----------------------------------- 1.1/11.0 MB 8.8 MB/s eta 0:00:02\n",
      "   ------- -------------------------------- 2.1/11.0 MB 11.9 MB/s eta 0:00:01\n",
      "   ----------- ---------------------------- 3.2/11.0 MB 15.9 MB/s eta 0:00:01\n",
      "   ------------ --------------------------- 3.5/11.0 MB 14.9 MB/s eta 0:00:01\n",
      "   ------------- -------------------------- 3.8/11.0 MB 13.6 MB/s eta 0:00:01\n",
      "   -------------------- ------------------- 5.6/11.0 MB 17.1 MB/s eta 0:00:01\n",
      "   --------------------------- ------------ 7.6/11.0 MB 20.2 MB/s eta 0:00:01\n",
      "   ------------------------------- -------- 8.8/11.0 MB 21.5 MB/s eta 0:00:01\n",
      "   ---------------------------------------  10.7/11.0 MB 27.3 MB/s eta 0:00:01\n",
      "   ---------------------------------------- 11.0/11.0 MB 27.3 MB/s eta 0:00:00\n",
      "Using cached joblib-1.4.2-py3-none-any.whl (301 kB)\n",
      "Using cached threadpoolctl-3.5.0-py3-none-any.whl (18 kB)\n",
      "Installing collected packages: threadpoolctl, joblib, scikit-learn\n",
      "Successfully installed joblib-1.4.2 scikit-learn-1.5.1 threadpoolctl-3.5.0\n"
     ]
    }
   ],
   "source": [
    "!pip install -U scikit-learn"
   ]
  },
  {
   "cell_type": "code",
   "execution_count": 4,
   "id": "5bd64c3e-2119-4741-b529-75ed38280119",
   "metadata": {},
   "outputs": [],
   "source": [
    "import numpy as np\n",
    "import glob\n",
    "import os\n",
    "from tensorflow.keras.utils import to_categorical\n",
    "from sklearn.model_selection import train_test_split\n",
    "from tensorflow.keras.models import Sequential\n",
    "from tensorflow.keras.layers import LSTM, Dense, Flatten, Dropout\n",
    "from tensorflow.keras.callbacks import ModelCheckpoint, EarlyStopping"
   ]
  },
  {
   "cell_type": "code",
   "execution_count": 5,
   "id": "d6bb83ce-86c8-4d0d-8a07-e2b47e01427a",
   "metadata": {},
   "outputs": [],
   "source": [
    "#GPU 사용하도록 설정\n",
    "os.environ[\"CUDA_VISIBLE_DEVICES\"] = \"0\""
   ]
  },
  {
   "cell_type": "code",
   "execution_count": 6,
   "id": "b3376aa8-beb3-4383-82b8-b9c7e4fdd2f6",
   "metadata": {},
   "outputs": [],
   "source": [
    "#예측값과 문자열\n",
    "\n",
    "gesture = {\n",
    "    0:'A', 1:'B', 2:'C', 3:'D', 4:'E', 5:'F',\n",
    "    6:'G', 7:'H', 8:'I', 9:'J'\n",
    "}"
   ]
  },
  {
   "cell_type": "code",
   "execution_count": 7,
   "id": "c9004435-5488-44d3-972d-796af6344399",
   "metadata": {},
   "outputs": [
    {
     "data": {
      "text/plain": [
       "10"
      ]
     },
     "execution_count": 7,
     "metadata": {},
     "output_type": "execute_result"
    }
   ],
   "source": [
    "#예측값과 문자열의 종류\n",
    "len(gesture)"
   ]
  },
  {
   "cell_type": "code",
   "execution_count": 8,
   "id": "2986eaf5-72b1-4209-b229-207041e88d5b",
   "metadata": {},
   "outputs": [],
   "source": [
    "#학습 데이터의 경로\n",
    "path = \"C://ai_project01/hand_detect01/hand_dataset/*.npy\""
   ]
  },
  {
   "cell_type": "code",
   "execution_count": 10,
   "id": "43001003-7ce4-4bac-b0f3-64dc4370d29f",
   "metadata": {},
   "outputs": [
    {
     "data": {
      "text/plain": [
       "['C://ai_project01/hand_detect01/hand_dataset\\\\A_1721722804.npy',\n",
       " 'C://ai_project01/hand_detect01/hand_dataset\\\\B_1721780703.npy',\n",
       " 'C://ai_project01/hand_detect01/hand_dataset\\\\C_1721780752.npy',\n",
       " 'C://ai_project01/hand_detect01/hand_dataset\\\\D_1721780799.npy',\n",
       " 'C://ai_project01/hand_detect01/hand_dataset\\\\E_1721780857.npy',\n",
       " 'C://ai_project01/hand_detect01/hand_dataset\\\\F_1721780903.npy',\n",
       " 'C://ai_project01/hand_detect01/hand_dataset\\\\G_1721780972.npy',\n",
       " 'C://ai_project01/hand_detect01/hand_dataset\\\\H_1721781028.npy',\n",
       " 'C://ai_project01/hand_detect01/hand_dataset\\\\I_1721781093.npy',\n",
       " 'C://ai_project01/hand_detect01/hand_dataset\\\\J_1721781163.npy']"
      ]
     },
     "execution_count": 10,
     "metadata": {},
     "output_type": "execute_result"
    }
   ],
   "source": [
    "#glob.glob(path) : path 경로의 파일 리스트 리턴\n",
    "file_list = glob.glob(path)\n",
    "\n",
    "file_list"
   ]
  },
  {
   "cell_type": "code",
   "execution_count": 11,
   "id": "632079b2-790a-4d32-a99a-ad70211405db",
   "metadata": {},
   "outputs": [
    {
     "name": "stdout",
     "output_type": "stream",
     "text": [
      "file= C://ai_project01/hand_detect01/hand_dataset\\A_1721722804.npy\n",
      "data.shape= (640, 79)\n",
      "file= C://ai_project01/hand_detect01/hand_dataset\\B_1721780703.npy\n",
      "data.shape= (583, 79)\n",
      "file= C://ai_project01/hand_detect01/hand_dataset\\C_1721780752.npy\n",
      "data.shape= (592, 79)\n",
      "file= C://ai_project01/hand_detect01/hand_dataset\\D_1721780799.npy\n",
      "data.shape= (573, 79)\n",
      "file= C://ai_project01/hand_detect01/hand_dataset\\E_1721780857.npy\n",
      "data.shape= (568, 79)\n",
      "file= C://ai_project01/hand_detect01/hand_dataset\\F_1721780903.npy\n",
      "data.shape= (580, 79)\n",
      "file= C://ai_project01/hand_detect01/hand_dataset\\G_1721780972.npy\n",
      "data.shape= (572, 79)\n",
      "file= C://ai_project01/hand_detect01/hand_dataset\\H_1721781028.npy\n",
      "data.shape= (569, 79)\n",
      "file= C://ai_project01/hand_detect01/hand_dataset\\I_1721781093.npy\n",
      "data.shape= (576, 79)\n",
      "file= C://ai_project01/hand_detect01/hand_dataset\\J_1721781163.npy\n",
      "data.shape= (583, 79)\n"
     ]
    }
   ],
   "source": [
    "#file_list 디렉토리에 저장된 파일의 경로 1개를 file에 저장\n",
    "for file in file_list:\n",
    "    print(\"file=\",file)\n",
    "    #np.load(file) : file의 내용 리턴\n",
    "    data = np.load(file)\n",
    "    #data.shape : file의 내용이 저장된 데이터의 행 열의 개수\n",
    "    print(\"data.shape=\",data.shape)"
   ]
  },
  {
   "cell_type": "code",
   "execution_count": 13,
   "id": "7be13b26-80f8-413d-ad06-d2c75aa0593d",
   "metadata": {},
   "outputs": [
    {
     "name": "stdout",
     "output_type": "stream",
     "text": [
      "file= C://ai_project01/hand_detect01/hand_dataset\\A_1721722804.npy\n",
      "data.shape= (560, 79)\n",
      "file= C://ai_project01/hand_detect01/hand_dataset\\B_1721780703.npy\n",
      "data.shape= (560, 79)\n",
      "file= C://ai_project01/hand_detect01/hand_dataset\\C_1721780752.npy\n",
      "data.shape= (560, 79)\n",
      "file= C://ai_project01/hand_detect01/hand_dataset\\D_1721780799.npy\n",
      "data.shape= (560, 79)\n",
      "file= C://ai_project01/hand_detect01/hand_dataset\\E_1721780857.npy\n",
      "data.shape= (560, 79)\n",
      "file= C://ai_project01/hand_detect01/hand_dataset\\F_1721780903.npy\n",
      "data.shape= (560, 79)\n",
      "file= C://ai_project01/hand_detect01/hand_dataset\\G_1721780972.npy\n",
      "data.shape= (560, 79)\n",
      "file= C://ai_project01/hand_detect01/hand_dataset\\H_1721781028.npy\n",
      "data.shape= (560, 79)\n",
      "file= C://ai_project01/hand_detect01/hand_dataset\\I_1721781093.npy\n",
      "data.shape= (560, 79)\n",
      "file= C://ai_project01/hand_detect01/hand_dataset\\J_1721781163.npy\n",
      "data.shape= (560, 79)\n"
     ]
    }
   ],
   "source": [
    "#path 경로의 파일들의 내용을 저장할 리스트\n",
    "data_list = []\n",
    "\n",
    "#file_list 디렉토리에 저장된 파일의 경로 1개를 file에 저장\n",
    "for file in file_list:\n",
    "    print(\"file=\",file)\n",
    "    #np.load(file) : file의 내용 리턴\n",
    "    data = np.load(file)\n",
    "    print(\"data.shape=\",data[ :560 :].shape)\n",
    "    #파일의 내용이 저장된 data를 data list에 추가\n",
    "    data_list.extend(data[ :560, :])"
   ]
  },
  {
   "cell_type": "code",
   "execution_count": 14,
   "id": "a586b204-7271-4467-a9ca-e0586cac995e",
   "metadata": {},
   "outputs": [
    {
     "data": {
      "text/plain": [
       "5600"
      ]
     },
     "execution_count": 14,
     "metadata": {},
     "output_type": "execute_result"
    }
   ],
   "source": [
    "len(data_list)"
   ]
  },
  {
   "cell_type": "code",
   "execution_count": 16,
   "id": "bf3fcf3b-ea65-4ac8-bc5c-74c58f51bbd4",
   "metadata": {},
   "outputs": [
    {
     "data": {
      "text/plain": [
       "array([[ 1.3650388e-01,  5.8879721e-01, -2.3838011e-08, ...,\n",
       "         1.8892279e+01,  1.0380528e+01,  0.0000000e+00],\n",
       "       [ 1.3822445e-01,  6.1091161e-01,  8.9641032e-09, ...,\n",
       "         2.7894497e+01,  8.4292974e+00,  0.0000000e+00],\n",
       "       [ 1.3856648e-01,  5.9714860e-01, -2.9684021e-08, ...,\n",
       "         2.2293457e+01,  1.0746673e+01,  0.0000000e+00],\n",
       "       ...,\n",
       "       [ 1.9912028e-01,  5.9498197e-01, -3.2183175e-07, ...,\n",
       "         4.6131935e+00,  1.1724647e+00,  9.0000000e+00],\n",
       "       [ 2.1990374e-01,  6.4319927e-01, -4.5523666e-07, ...,\n",
       "         7.5301704e+00,  5.3254378e-01,  9.0000000e+00],\n",
       "       [ 2.2928722e-01,  6.5826750e-01, -4.6250847e-07, ...,\n",
       "         6.7613730e+00,  6.7632496e-01,  9.0000000e+00]], dtype=float32)"
      ]
     },
     "execution_count": 16,
     "metadata": {},
     "output_type": "execute_result"
    }
   ],
   "source": [
    "#np.array(data_list) : data_list를 배열로 변환\n",
    "#dtype=np.float32 : 배열의 타입은 32비트 실수 float32로 변환\n",
    "\n",
    "all_data = np.array(data_list, dtype=np.float32)\n",
    "\n",
    "all_data"
   ]
  },
  {
   "cell_type": "code",
   "execution_count": 17,
   "id": "0430aae1-3736-447e-bb9f-061dccd017f3",
   "metadata": {},
   "outputs": [
    {
     "data": {
      "text/plain": [
       "(5600, 79)"
      ]
     },
     "execution_count": 17,
     "metadata": {},
     "output_type": "execute_result"
    }
   ],
   "source": [
    "#전체 데이터의 행 열\n",
    "all_data.shape"
   ]
  },
  {
   "cell_type": "code",
   "execution_count": 19,
   "id": "899e3630-df73-4119-9fa4-379c72110761",
   "metadata": {},
   "outputs": [
    {
     "data": {
      "text/plain": [
       "(1120, 5, 79)"
      ]
     },
     "execution_count": 19,
     "metadata": {},
     "output_type": "execute_result"
    }
   ],
   "source": [
    "#all_data.reshape(-1,5,79) : all_data 배열의 차원을 (5600,79) -> (1120,5,79)으로 변환\n",
    "#                            학습 시 5개 행씩 학습할 것임\n",
    "\n",
    "#all_data.reshape(1120 => 5행 79열 2차원 배열의 개수 예에서는 1120,5 ==> 행의 개수, 79 ==> 열의 개수)\n",
    "\n",
    "#all_data.reshape(-1 => 5행 79열 2차원 배열의 개수 예에서는 1120이나 -1로 생략 가능, 5 ==> 행의 개수, 79 ==> 열의 개수\n",
    "\n",
    "all_data_lstm = all_data.reshape(-1,5,79)\n",
    "\n",
    "#all_data_lstm의 행 열 조회\n",
    "all_data_lstm.shape"
   ]
  },
  {
   "cell_type": "code",
   "execution_count": 20,
   "id": "2c7e43e2-c45a-4ada-816b-200b304fcbd0",
   "metadata": {},
   "outputs": [
    {
     "data": {
      "text/plain": [
       "array([[[ 1.36503875e-01,  5.88797212e-01, -2.38380107e-08, ...,\n",
       "          1.88922787e+01,  1.03805285e+01,  0.00000000e+00],\n",
       "        [ 1.38224453e-01,  6.10911608e-01,  8.96410324e-09, ...,\n",
       "          2.78944969e+01,  8.42929745e+00,  0.00000000e+00],\n",
       "        [ 1.38566479e-01,  5.97148597e-01, -2.96840206e-08, ...,\n",
       "          2.22934570e+01,  1.07466726e+01,  0.00000000e+00],\n",
       "        [ 1.36480659e-01,  6.18827939e-01, -2.35372113e-08, ...,\n",
       "          7.44722061e+01,  1.38268080e+01,  0.00000000e+00],\n",
       "        [ 1.35352731e-01,  6.20294511e-01,  1.12828520e-08, ...,\n",
       "          7.33151398e+01,  3.20096626e+01,  0.00000000e+00]],\n",
       "\n",
       "       [[ 1.35141149e-01,  6.17969573e-01,  2.34940494e-08, ...,\n",
       "          5.98485870e+01,  3.45335426e+01,  0.00000000e+00],\n",
       "        [ 1.35970533e-01,  6.14740074e-01,  3.74642148e-08, ...,\n",
       "          5.64226646e+01,  5.10361595e+01,  0.00000000e+00],\n",
       "        [ 1.40326187e-01,  5.90316951e-01, -3.40871651e-08, ...,\n",
       "          1.78916531e+01,  8.26650238e+00,  0.00000000e+00],\n",
       "        [ 1.38208061e-01,  6.11846924e-01,  2.52539198e-08, ...,\n",
       "          3.13444405e+01,  3.37922239e+00,  0.00000000e+00],\n",
       "        [ 1.38042957e-01,  6.20750368e-01, -2.69499321e-08, ...,\n",
       "          7.57504578e+01,  1.74815407e+01,  0.00000000e+00]],\n",
       "\n",
       "       [[ 1.37491941e-01,  6.20609760e-01, -2.12842526e-08, ...,\n",
       "          7.25922089e+01,  1.52733889e+01,  0.00000000e+00],\n",
       "        [ 1.36458278e-01,  6.18756592e-01, -5.71940184e-09, ...,\n",
       "          7.57286911e+01,  1.39808130e+01,  0.00000000e+00],\n",
       "        [ 1.36385903e-01,  6.07308209e-01,  3.67569868e-08, ...,\n",
       "          5.40557137e+01,  3.61790047e+01,  0.00000000e+00],\n",
       "        [ 1.38517290e-01,  6.16463065e-01,  3.95956867e-09, ...,\n",
       "          4.70112991e+01,  1.19972343e+01,  0.00000000e+00],\n",
       "        [ 1.37382120e-01,  6.18028760e-01, -1.58495883e-08, ...,\n",
       "          7.64495392e+01,  2.15387497e+01,  0.00000000e+00]],\n",
       "\n",
       "       ...,\n",
       "\n",
       "       [[ 2.86796570e-01,  6.14359558e-01, -3.92783392e-07, ...,\n",
       "          2.00764771e+01,  8.48077202e+00,  9.00000000e+00],\n",
       "        [ 2.77492106e-01,  6.04597151e-01, -4.71195875e-07, ...,\n",
       "          3.39239693e+01,  9.29316235e+00,  9.00000000e+00],\n",
       "        [ 2.66943932e-01,  5.92303157e-01, -3.81453191e-07, ...,\n",
       "          9.38352890e+01,  3.62304306e+01,  9.00000000e+00],\n",
       "        [ 2.46303380e-01,  5.56962013e-01, -2.20837677e-07, ...,\n",
       "          6.77468948e+01,  1.06172508e+02,  9.00000000e+00],\n",
       "        [ 2.26748213e-01,  5.15601218e-01,  9.45572438e-08, ...,\n",
       "          2.17197819e+01,  9.15159702e+00,  9.00000000e+00]],\n",
       "\n",
       "       [[ 2.20212623e-01,  5.01322746e-01,  1.02927686e-07, ...,\n",
       "          1.18250074e+01,  2.79809833e+00,  9.00000000e+00],\n",
       "        [ 2.10969150e-01,  5.13974786e-01, -3.84364540e-08, ...,\n",
       "          9.49139977e+00,  6.29022551e+00,  9.00000000e+00],\n",
       "        [ 2.05027074e-01,  5.24192870e-01, -1.94706729e-07, ...,\n",
       "          6.80142021e+00,  5.40233183e+00,  9.00000000e+00],\n",
       "        [ 2.00039223e-01,  5.39046288e-01, -2.53915573e-07, ...,\n",
       "          6.74397373e+00,  5.79102373e+00,  9.00000000e+00],\n",
       "        [ 1.94939375e-01,  5.55585086e-01, -2.43472783e-07, ...,\n",
       "          5.87967730e+00,  4.68221092e+00,  9.00000000e+00]],\n",
       "\n",
       "       [[ 1.94012865e-01,  5.70113957e-01, -2.73481305e-07, ...,\n",
       "          4.68605995e+00,  5.56454849e+00,  9.00000000e+00],\n",
       "        [ 1.95140451e-01,  5.82946718e-01, -2.92868521e-07, ...,\n",
       "          3.93597054e+00,  3.33652663e+00,  9.00000000e+00],\n",
       "        [ 1.99120283e-01,  5.94981968e-01, -3.21831749e-07, ...,\n",
       "          4.61319351e+00,  1.17246473e+00,  9.00000000e+00],\n",
       "        [ 2.19903737e-01,  6.43199265e-01, -4.55236659e-07, ...,\n",
       "          7.53017044e+00,  5.32543778e-01,  9.00000000e+00],\n",
       "        [ 2.29287222e-01,  6.58267498e-01, -4.62508467e-07, ...,\n",
       "          6.76137304e+00,  6.76324964e-01,  9.00000000e+00]]],\n",
       "      dtype=float32)"
      ]
     },
     "execution_count": 20,
     "metadata": {},
     "output_type": "execute_result"
    }
   ],
   "source": [
    "all_data_lstm"
   ]
  },
  {
   "cell_type": "code",
   "execution_count": 22,
   "id": "74ac75a5-5ea0-400b-ba23-b55afd4b0cbe",
   "metadata": {},
   "outputs": [
    {
     "data": {
      "text/plain": [
       "array([[[ 1.36503875e-01,  5.88797212e-01, -2.38380107e-08, ...,\n",
       "          2.00543156e+01,  1.88922787e+01,  1.03805285e+01],\n",
       "        [ 1.38224453e-01,  6.10911608e-01,  8.96410324e-09, ...,\n",
       "          6.02583694e+01,  2.78944969e+01,  8.42929745e+00],\n",
       "        [ 1.38566479e-01,  5.97148597e-01, -2.96840206e-08, ...,\n",
       "          3.38922615e+01,  2.22934570e+01,  1.07466726e+01],\n",
       "        [ 1.36480659e-01,  6.18827939e-01, -2.35372113e-08, ...,\n",
       "          6.00469589e+00,  7.44722061e+01,  1.38268080e+01],\n",
       "        [ 1.35352731e-01,  6.20294511e-01,  1.12828520e-08, ...,\n",
       "          2.53834858e+01,  7.33151398e+01,  3.20096626e+01]],\n",
       "\n",
       "       [[ 1.35141149e-01,  6.17969573e-01,  2.34940494e-08, ...,\n",
       "          2.96584530e+01,  5.98485870e+01,  3.45335426e+01],\n",
       "        [ 1.35970533e-01,  6.14740074e-01,  3.74642148e-08, ...,\n",
       "          3.47269783e+01,  5.64226646e+01,  5.10361595e+01],\n",
       "        [ 1.40326187e-01,  5.90316951e-01, -3.40871651e-08, ...,\n",
       "          1.81409931e+01,  1.78916531e+01,  8.26650238e+00],\n",
       "        [ 1.38208061e-01,  6.11846924e-01,  2.52539198e-08, ...,\n",
       "          3.80849533e+01,  3.13444405e+01,  3.37922239e+00],\n",
       "        [ 1.38042957e-01,  6.20750368e-01, -2.69499321e-08, ...,\n",
       "          5.32918978e+00,  7.57504578e+01,  1.74815407e+01]],\n",
       "\n",
       "       [[ 1.37491941e-01,  6.20609760e-01, -2.12842526e-08, ...,\n",
       "          9.84045029e+00,  7.25922089e+01,  1.52733889e+01],\n",
       "        [ 1.36458278e-01,  6.18756592e-01, -5.71940184e-09, ...,\n",
       "          1.63171158e+01,  7.57286911e+01,  1.39808130e+01],\n",
       "        [ 1.36385903e-01,  6.07308209e-01,  3.67569868e-08, ...,\n",
       "          3.77248993e+01,  5.40557137e+01,  3.61790047e+01],\n",
       "        [ 1.38517290e-01,  6.16463065e-01,  3.95956867e-09, ...,\n",
       "          5.84375267e+01,  4.70112991e+01,  1.19972343e+01],\n",
       "        [ 1.37382120e-01,  6.18028760e-01, -1.58495883e-08, ...,\n",
       "          1.37825747e+01,  7.64495392e+01,  2.15387497e+01]],\n",
       "\n",
       "       ...,\n",
       "\n",
       "       [[ 2.86796570e-01,  6.14359558e-01, -3.92783392e-07, ...,\n",
       "          1.42411652e+01,  2.00764771e+01,  8.48077202e+00],\n",
       "        [ 2.77492106e-01,  6.04597151e-01, -4.71195875e-07, ...,\n",
       "          1.97409458e+01,  3.39239693e+01,  9.29316235e+00],\n",
       "        [ 2.66943932e-01,  5.92303157e-01, -3.81453191e-07, ...,\n",
       "          9.03191147e+01,  9.38352890e+01,  3.62304306e+01],\n",
       "        [ 2.46303380e-01,  5.56962013e-01, -2.20837677e-07, ...,\n",
       "          1.03914146e+02,  6.77468948e+01,  1.06172508e+02],\n",
       "        [ 2.26748213e-01,  5.15601218e-01,  9.45572438e-08, ...,\n",
       "          7.20125122e+01,  2.17197819e+01,  9.15159702e+00]],\n",
       "\n",
       "       [[ 2.20212623e-01,  5.01322746e-01,  1.02927686e-07, ...,\n",
       "          5.01047935e+01,  1.18250074e+01,  2.79809833e+00],\n",
       "        [ 2.10969150e-01,  5.13974786e-01, -3.84364540e-08, ...,\n",
       "          3.07158966e+01,  9.49139977e+00,  6.29022551e+00],\n",
       "        [ 2.05027074e-01,  5.24192870e-01, -1.94706729e-07, ...,\n",
       "          1.70626354e+01,  6.80142021e+00,  5.40233183e+00],\n",
       "        [ 2.00039223e-01,  5.39046288e-01, -2.53915573e-07, ...,\n",
       "          1.26960487e+01,  6.74397373e+00,  5.79102373e+00],\n",
       "        [ 1.94939375e-01,  5.55585086e-01, -2.43472783e-07, ...,\n",
       "          1.04163713e+01,  5.87967730e+00,  4.68221092e+00]],\n",
       "\n",
       "       [[ 1.94012865e-01,  5.70113957e-01, -2.73481305e-07, ...,\n",
       "          8.05414295e+00,  4.68605995e+00,  5.56454849e+00],\n",
       "        [ 1.95140451e-01,  5.82946718e-01, -2.92868521e-07, ...,\n",
       "          6.74717617e+00,  3.93597054e+00,  3.33652663e+00],\n",
       "        [ 1.99120283e-01,  5.94981968e-01, -3.21831749e-07, ...,\n",
       "          8.89259624e+00,  4.61319351e+00,  1.17246473e+00],\n",
       "        [ 2.19903737e-01,  6.43199265e-01, -4.55236659e-07, ...,\n",
       "          2.59884472e+01,  7.53017044e+00,  5.32543778e-01],\n",
       "        [ 2.29287222e-01,  6.58267498e-01, -4.62508467e-07, ...,\n",
       "          2.80943966e+01,  6.76137304e+00,  6.76324964e-01]]],\n",
       "      dtype=float32)"
      ]
     },
     "execution_count": 22,
     "metadata": {},
     "output_type": "execute_result"
    }
   ],
   "source": [
    "#all_data_lstm[: => 모든 2차원 배열, : => 모든 행, :-1 => 마지막 열 제외]\n",
    "#all_data_lstm의 마지막 열을 제외한 데이터 리턴 (손의 좌푣와 각도)\n",
    "\n",
    "X_data = all_data_lstm [:, :, :-1]\n",
    "\n",
    "X_data"
   ]
  },
  {
   "cell_type": "code",
   "execution_count": 23,
   "id": "dc0252a1-a660-45cb-9cf8-f66137be0eae",
   "metadata": {},
   "outputs": [
    {
     "data": {
      "text/plain": [
       "array([0., 0., 0., ..., 9., 9., 9.], dtype=float32)"
      ]
     },
     "execution_count": 23,
     "metadata": {},
     "output_type": "execute_result"
    }
   ],
   "source": [
    "#all_data_lstm[: ,0, -1] : all_data_lstm의 첫번째 행 마지막 열데이터 리턴\n",
    "#                         손의 좌표와 각도가 어떤 손모양인지 저장\n",
    "#                         A일때는 0 B일때는 1 C일때는 2.. J:9가 저장되어있음\n",
    "labels = all_data_lstm [: , 0, -1]\n",
    "\n",
    "labels"
   ]
  },
  {
   "cell_type": "code",
   "execution_count": 24,
   "id": "733a37b0-4d6c-439c-ba1f-d3c0d6f1bbc7",
   "metadata": {},
   "outputs": [
    {
     "data": {
      "text/plain": [
       "array([[1., 0., 0., ..., 0., 0., 0.],\n",
       "       [1., 0., 0., ..., 0., 0., 0.],\n",
       "       [1., 0., 0., ..., 0., 0., 0.],\n",
       "       ...,\n",
       "       [0., 0., 0., ..., 0., 0., 1.],\n",
       "       [0., 0., 0., ..., 0., 0., 1.],\n",
       "       [0., 0., 0., ..., 0., 0., 1.]], dtype=float32)"
      ]
     },
     "execution_count": 24,
     "metadata": {},
     "output_type": "execute_result"
    }
   ],
   "source": [
    "#to_categorical(labels, num_classes=len(gesture)) : 학습을 위해서 Labels 데이터를 수정\n",
    "# labels 이 저장된 데이터가 0 (A) 일때는 -> 1000000000\n",
    "# labels 이 저장된 데이터가 1 (B) 일때는 -> 0100000000\n",
    "# labels 이 저장된 데이타가 2 (C) 일때는 -> 0010000000\n",
    "# ...\n",
    "#labels에 저장된 데이터가 9 (J) 일때는 -> 0000000001\n",
    "\n",
    "# 10 자리 len(gesture) 로 변환\n",
    "\n",
    "y_data = to_categorical(labels, num_classes=len(gesture))\n",
    "\n",
    "y_data"
   ]
  },
  {
   "cell_type": "code",
   "execution_count": 25,
   "id": "a24cd339-a0b8-4a7c-a824-1bb2e8c10277",
   "metadata": {},
   "outputs": [],
   "source": [
    "#train_test_split(X_data, y_data, test_size=0.1) : X_data와 y_data를 학습데이터와 테스트 데이터로 분리\n",
    "#테스트데이터는 전체 데이터의 10% 학습데이터는 전체 데이터의 90%로 설정\n",
    "\n",
    "#학습 데이터는 LSTM에서 손모양의 패턴을 파악할 데이터\n",
    "#즉 A손 모양의 좌표와 각도의 패턴 파악 데이터 B손 모양의 좌표와 각도의 패턴 파악 데이터 ... J 손 모양의 좌표와 각도의 패턴 파악 데이터\n",
    "\n",
    "#테스트 데이터는 파악한 패턴이 올바른지 검증할 데이터\n",
    "\n",
    "X_train, X_test, y_train, y_test = train_test_split(X_data, y_data, test_size=0.1)"
   ]
  },
  {
   "cell_type": "code",
   "execution_count": 26,
   "id": "053bf5d6-215d-4cfc-8f24-ef6819ac9417",
   "metadata": {},
   "outputs": [
    {
     "data": {
      "text/plain": [
       "array([[[ 5.18493950e-01,  6.22846067e-01,  4.04014230e-07, ...,\n",
       "          8.74940968e+00,  1.07848668e+00,  1.33122015e+00],\n",
       "        [ 5.21493018e-01,  6.24146461e-01,  3.94525898e-07, ...,\n",
       "          8.61462975e+00,  1.28775620e+00,  1.68502772e+00],\n",
       "        [ 5.25886714e-01,  6.22609794e-01,  3.87473875e-07, ...,\n",
       "          8.83050251e+00,  9.99592721e-01,  1.30319643e+00],\n",
       "        [ 5.41218698e-01,  6.21566296e-01,  3.51160196e-07, ...,\n",
       "          8.15503788e+00,  1.86735380e+00,  2.99208975e+00],\n",
       "        [ 5.46963871e-01,  6.22209489e-01,  3.45892403e-07, ...,\n",
       "          8.42227936e+00,  2.94228363e+00,  1.63594401e+00]],\n",
       "\n",
       "       [[ 5.37535310e-01,  5.14124274e-01,  3.55102742e-07, ...,\n",
       "          3.26215196e+00,  4.35340500e+00,  1.81121528e+00],\n",
       "        [ 5.35843551e-01,  5.11068046e-01,  3.56060667e-07, ...,\n",
       "          3.82854939e+00,  3.80220532e+00,  1.44242787e+00],\n",
       "        [ 5.34100652e-01,  5.10193050e-01,  3.33596063e-07, ...,\n",
       "          5.04412699e+00,  5.47450686e+00,  1.29120648e+00],\n",
       "        [ 5.32736540e-01,  5.08964419e-01,  3.18543357e-07, ...,\n",
       "          4.43676996e+00,  5.06685972e+00,  1.64709842e+00],\n",
       "        [ 5.27880132e-01,  5.17778993e-01,  3.15420607e-07, ...,\n",
       "          1.91022694e+00,  7.78273106e+00,  1.27548814e+00]],\n",
       "\n",
       "       [[ 5.31554937e-01,  6.04486525e-01,  1.40635779e-08, ...,\n",
       "          5.15877581e+00,  8.77625465e+00,  3.03752732e+00],\n",
       "        [ 5.32250941e-01,  6.03407383e-01,  3.71448472e-08, ...,\n",
       "          4.11362886e+00,  8.40805340e+00,  3.25805926e+00],\n",
       "        [ 5.32803655e-01,  6.01904154e-01,  4.50439650e-08, ...,\n",
       "          3.05580568e+00,  7.85541439e+00,  3.40041780e+00],\n",
       "        [ 5.32396436e-01,  6.01198494e-01,  5.70438949e-08, ...,\n",
       "          2.11993027e+00,  7.18000031e+00,  3.32946873e+00],\n",
       "        [ 5.32657146e-01,  6.01750016e-01,  6.73765683e-08, ...,\n",
       "          1.91151226e+00,  6.65564823e+00,  3.50779963e+00]],\n",
       "\n",
       "       ...,\n",
       "\n",
       "       [[ 2.76044130e-01,  5.89856029e-01, -3.17898952e-07, ...,\n",
       "          4.81278324e+00,  1.01583719e+01,  5.62823677e+00],\n",
       "        [ 2.74892509e-01,  5.88565171e-01, -3.22192250e-07, ...,\n",
       "          4.28832483e+00,  9.69758320e+00,  5.74350214e+00],\n",
       "        [ 2.74443269e-01,  5.88311195e-01, -3.12559791e-07, ...,\n",
       "          4.30103302e+00,  9.65578270e+00,  5.62407207e+00],\n",
       "        [ 2.78172910e-01,  5.90379775e-01, -3.09473336e-07, ...,\n",
       "          4.08750963e+00,  1.02828197e+01,  5.77335882e+00],\n",
       "        [ 2.78394818e-01,  5.91320395e-01, -3.21622792e-07, ...,\n",
       "          4.10600233e+00,  9.38458157e+00,  6.05108976e+00]],\n",
       "\n",
       "       [[ 2.57716864e-01,  5.92192769e-01, -3.10204086e-07, ...,\n",
       "          7.31792688e+00,  9.35168648e+00,  5.87571049e+00],\n",
       "        [ 2.59490371e-01,  5.95578194e-01, -3.13459111e-07, ...,\n",
       "          7.07081556e+00,  9.05319691e+00,  5.70880270e+00],\n",
       "        [ 2.60815054e-01,  5.97899199e-01, -2.84524788e-07, ...,\n",
       "          6.94308233e+00,  9.46357536e+00,  5.79744387e+00],\n",
       "        [ 2.62412101e-01,  5.97139835e-01, -2.83877256e-07, ...,\n",
       "          6.75907755e+00,  9.41756916e+00,  5.94234610e+00],\n",
       "        [ 2.66522229e-01,  5.95707536e-01, -2.81810543e-07, ...,\n",
       "          7.54969263e+00,  9.56249619e+00,  6.10737705e+00]],\n",
       "\n",
       "       [[ 6.22489691e-01,  7.37361312e-01,  3.98604442e-07, ...,\n",
       "          3.95563126e+01,  1.03193413e+02,  2.09498386e+01],\n",
       "        [ 6.24091923e-01,  7.22491145e-01,  3.94872899e-07, ...,\n",
       "          3.79670563e+01,  1.08030922e+02,  1.85130177e+01],\n",
       "        [ 6.26911402e-01,  7.08942354e-01,  4.04878648e-07, ...,\n",
       "          3.83936310e+01,  1.04370148e+02,  1.71128883e+01],\n",
       "        [ 6.27853632e-01,  6.96781814e-01,  3.94340674e-07, ...,\n",
       "          3.92693367e+01,  1.04381424e+02,  1.65375080e+01],\n",
       "        [ 6.28466606e-01,  6.85838878e-01,  3.94122679e-07, ...,\n",
       "          3.94217529e+01,  1.01749046e+02,  1.46645765e+01]]],\n",
       "      dtype=float32)"
      ]
     },
     "execution_count": 26,
     "metadata": {},
     "output_type": "execute_result"
    }
   ],
   "source": [
    "#학습데이터 (손좌표와 각도)\n",
    "X_train"
   ]
  },
  {
   "cell_type": "code",
   "execution_count": 27,
   "id": "cde5990a-c695-4e00-86f2-2843203e4760",
   "metadata": {},
   "outputs": [
    {
     "data": {
      "text/plain": [
       "array([[0., 1., 0., 0., 0., 0., 0., 0., 0., 0.],\n",
       "       [0., 0., 0., 0., 0., 1., 0., 0., 0., 0.],\n",
       "       [0., 0., 0., 0., 0., 1., 0., 0., 0., 0.],\n",
       "       [0., 0., 1., 0., 0., 0., 0., 0., 0., 0.],\n",
       "       [0., 0., 0., 0., 1., 0., 0., 0., 0., 0.]], dtype=float32)"
      ]
     },
     "execution_count": 27,
     "metadata": {},
     "output_type": "execute_result"
    }
   ],
   "source": [
    "#학습데이터 (수어 단어)\n",
    "y_train[0:5]"
   ]
  },
  {
   "cell_type": "code",
   "execution_count": 28,
   "id": "b953c5c5-1aae-43df-87de-348deb22c6dc",
   "metadata": {},
   "outputs": [],
   "source": [
    "#입력값을 읽어서 예측을 할 Sequential 객체 생성\n",
    "model = Sequential()"
   ]
  },
  {
   "cell_type": "code",
   "execution_count": 29,
   "id": "868632f0-e690-412d-a0e9-1a59e10051c6",
   "metadata": {},
   "outputs": [],
   "source": [
    "#LSTM연산 실행\n",
    "#input_shape(5,78) 한번에 학습하는 데이터는 5행 78열\n",
    "model.add(LSTM(256, input_shape=(5,78)))"
   ]
  },
  {
   "cell_type": "code",
   "execution_count": 30,
   "id": "b707eacb-d98e-4379-978f-25d507184065",
   "metadata": {},
   "outputs": [],
   "source": [
    "#A,b,c,d, .... 중 어디에 속하는 이미지 인지 예측할 준비\n",
    "model.add(Flatten())"
   ]
  },
  {
   "cell_type": "code",
   "execution_count": 31,
   "id": "ff64acd6-897a-4198-9d5f-9e7e0b81e806",
   "metadata": {},
   "outputs": [],
   "source": [
    "#model.add(Dense(128)): 각 액션의 손위치와 각도 데이터에서 128가지 공통점을 찾음\n",
    "model.add(Dense(128, activation='relu'))"
   ]
  },
  {
   "cell_type": "code",
   "execution_count": 32,
   "id": "55527164-db3b-4dc2-9926-ab8bd65cf2dd",
   "metadata": {},
   "outputs": [],
   "source": [
    "#model.add(Dropout(0.5) ) : 128가지 공통점이 없는 경우 랜덤하게 50%만 공통점 찾음\n",
    "model.add(Dropout(0.5) )"
   ]
  },
  {
   "cell_type": "code",
   "execution_count": 33,
   "id": "bc6b2815-fe1c-49da-bf9c-372c69117bde",
   "metadata": {},
   "outputs": [],
   "source": [
    "#model.add(Dense(64)): 각 액션의 손위치와 각도 데이터에서 64가지 공통점을 찾음\n",
    "model.add(Dense(64, activation='relu'))"
   ]
  },
  {
   "cell_type": "code",
   "execution_count": 34,
   "id": "4bafb0ed-2a55-4b22-b023-25351669b921",
   "metadata": {},
   "outputs": [],
   "source": [
    "#model.add(Dropout(0.5) ) : 64가지 공통점이 없는 경우 랜덤하게 50%만 공통점 찾음\n",
    "model.add(Dropout(0.5) )"
   ]
  },
  {
   "cell_type": "code",
   "execution_count": 35,
   "id": "5c7634c1-bdad-4098-9b5c-64db9b269d6d",
   "metadata": {},
   "outputs": [],
   "source": [
    "#model.add(Dense(32)): 각 액션의 손위치와 각도 데이터에서 32가지 공통점을 찾음\n",
    "model.add(Dense(32, activation='relu'))"
   ]
  },
  {
   "cell_type": "code",
   "execution_count": 36,
   "id": "697b2877-5bd8-46d9-859e-17969d2be69c",
   "metadata": {},
   "outputs": [],
   "source": [
    "#model.add(Dropout(0.5) ) : 32가지 공통점이 없는 경우 랜덤하게 50%만 공통점 찾음\n",
    "model.add(Dropout(0.5) )"
   ]
  },
  {
   "cell_type": "code",
   "execution_count": 37,
   "id": "ddaf3532-54d1-4026-be52-ac80550a7929",
   "metadata": {},
   "outputs": [],
   "source": [
    "#model.add(Dense( Len(gesture)-> 10, activation=\"softmax\")): A,B,C .. J 10 (=Len(gesture)) 가지 중\n",
    "# 어디에 속하는 손 좌표와 각도 인지 예측\n",
    "model.add(Dense(len(gesture), activation='softmax'))"
   ]
  },
  {
   "cell_type": "code",
   "execution_count": 38,
   "id": "3be3f59b-20bc-487a-9ec3-3f5fe50179c1",
   "metadata": {},
   "outputs": [],
   "source": [
    "#optimizer='adam' : AdamOptimizer를 이용해서 패턴을 찾음\n",
    "\n",
    "#categorical_crossentropy : 3개 이상으로 분류 (A,B,C .. J 10가지 이므로 3개이상 분류)\n",
    "\n",
    "#metrics=['acc'] : 학습한 데이터가 얼마나 정확한지 정확도를 출력\n",
    "\n",
    "model.compile(optimizer='adam', loss='categorical_crossentropy', metrics=['acc'])"
   ]
  },
  {
   "cell_type": "code",
   "execution_count": 39,
   "id": "73b48e57-7012-4e47-ae10-41b5db555377",
   "metadata": {},
   "outputs": [],
   "source": [
    "# 학습한 결과 저장하도록 설정\n",
    "cb_checkpoint = ModelCheckpoint(filepath=\"c://ai_project01/hand_lstm_train_result/\", # 학습한 결과 저장할 폴더 설정\n",
    "                                monitor='val_acc', # 저장할 조건 val_acc (테스트 데이터의 정확도) 가 가장 높은 결과 저장\n",
    "                                save_best_only=True # 가장 정확도가 높은 모델 1개만 저장\n",
    "                                )"
   ]
  },
  {
   "cell_type": "code",
   "execution_count": 40,
   "id": "f408c13f-c8de-4bef-b6ca-4cc2fb76941c",
   "metadata": {},
   "outputs": [],
   "source": [
    "# 학습은 100 번 반복해서 A, B,C .. J 손 좌표와 각도의 특징을 파악하게 진행 할것임\n",
    "# 100 번 반복 전에 더이상 정확도가 높아지지 않으면 중간에 반복 종료\n",
    "earlystopping = EarlyStopping(monitor='val_loss',\n",
    "                              patience=30,         #30회 반복할 동안 정확도가 높아지지 않으면 반복 종료\n",
    "                             )"
   ]
  },
  {
   "cell_type": "code",
   "execution_count": 42,
   "id": "c9dcfaa5-b6b6-4bea-b277-f109cae55331",
   "metadata": {},
   "outputs": [
    {
     "name": "stdout",
     "output_type": "stream",
     "text": [
      "Epoch 1/100\n",
      "32/32 [==============================] - 0s 11ms/step - loss: 0.1277 - acc: 0.9573 - val_loss: 0.0566 - val_acc: 0.9732\n",
      "Epoch 2/100\n",
      "32/32 [==============================] - 0s 6ms/step - loss: 0.1504 - acc: 0.9514 - val_loss: 0.0529 - val_acc: 0.9732\n",
      "Epoch 3/100\n",
      "32/32 [==============================] - 0s 5ms/step - loss: 0.1293 - acc: 0.9504 - val_loss: 0.2213 - val_acc: 0.9375\n",
      "Epoch 4/100\n",
      "32/32 [==============================] - 0s 5ms/step - loss: 0.1692 - acc: 0.9385 - val_loss: 0.1867 - val_acc: 0.9286\n",
      "Epoch 5/100\n",
      "32/32 [==============================] - 0s 4ms/step - loss: 0.1609 - acc: 0.9385 - val_loss: 0.1100 - val_acc: 0.9554\n",
      "Epoch 6/100\n",
      "32/32 [==============================] - 0s 4ms/step - loss: 0.1528 - acc: 0.9504 - val_loss: 0.0901 - val_acc: 0.9464\n",
      "Epoch 7/100\n",
      "32/32 [==============================] - 0s 4ms/step - loss: 0.1525 - acc: 0.9544 - val_loss: 0.0770 - val_acc: 0.9732\n",
      "Epoch 8/100\n",
      "32/32 [==============================] - 0s 4ms/step - loss: 0.1411 - acc: 0.9514 - val_loss: 0.0823 - val_acc: 0.9643\n",
      "Epoch 9/100\n",
      "32/32 [==============================] - 0s 4ms/step - loss: 0.0953 - acc: 0.9712 - val_loss: 0.0384 - val_acc: 0.9821\n",
      "Epoch 10/100\n",
      "32/32 [==============================] - 0s 4ms/step - loss: 0.1363 - acc: 0.9504 - val_loss: 0.0685 - val_acc: 0.9554\n",
      "Epoch 11/100\n",
      "32/32 [==============================] - 0s 4ms/step - loss: 0.1423 - acc: 0.9484 - val_loss: 0.0755 - val_acc: 0.9554\n",
      "Epoch 12/100\n",
      "32/32 [==============================] - 0s 4ms/step - loss: 0.0881 - acc: 0.9712 - val_loss: 0.0637 - val_acc: 0.9821\n",
      "Epoch 13/100\n",
      "32/32 [==============================] - 0s 4ms/step - loss: 0.0996 - acc: 0.9653 - val_loss: 0.0236 - val_acc: 0.9911\n",
      "Epoch 14/100\n",
      "32/32 [==============================] - 0s 4ms/step - loss: 0.1151 - acc: 0.9692 - val_loss: 0.0720 - val_acc: 0.9643\n",
      "Epoch 15/100\n",
      "32/32 [==============================] - 0s 4ms/step - loss: 0.1169 - acc: 0.9583 - val_loss: 0.1339 - val_acc: 0.9464\n",
      "Epoch 16/100\n",
      "32/32 [==============================] - 0s 4ms/step - loss: 0.1292 - acc: 0.9603 - val_loss: 0.0297 - val_acc: 0.9911\n",
      "Epoch 17/100\n",
      "32/32 [==============================] - 0s 4ms/step - loss: 0.0831 - acc: 0.9782 - val_loss: 0.0155 - val_acc: 1.0000\n",
      "Epoch 18/100\n",
      "32/32 [==============================] - 0s 5ms/step - loss: 0.1242 - acc: 0.9643 - val_loss: 0.0714 - val_acc: 0.9643\n",
      "Epoch 19/100\n",
      "32/32 [==============================] - 0s 4ms/step - loss: 0.1067 - acc: 0.9643 - val_loss: 0.0309 - val_acc: 0.9911\n",
      "Epoch 20/100\n",
      "32/32 [==============================] - 0s 4ms/step - loss: 0.1090 - acc: 0.9623 - val_loss: 0.0318 - val_acc: 0.9911\n",
      "Epoch 21/100\n",
      "32/32 [==============================] - 0s 4ms/step - loss: 0.1254 - acc: 0.9563 - val_loss: 0.0569 - val_acc: 0.9643\n",
      "Epoch 22/100\n",
      "32/32 [==============================] - 0s 4ms/step - loss: 0.0920 - acc: 0.9643 - val_loss: 0.0210 - val_acc: 1.0000\n",
      "Epoch 23/100\n",
      "32/32 [==============================] - 0s 3ms/step - loss: 0.1003 - acc: 0.9663 - val_loss: 0.0551 - val_acc: 0.9732\n",
      "Epoch 24/100\n",
      "32/32 [==============================] - 0s 4ms/step - loss: 0.1014 - acc: 0.9633 - val_loss: 0.1269 - val_acc: 0.9821\n",
      "Epoch 25/100\n",
      "32/32 [==============================] - 0s 4ms/step - loss: 0.0777 - acc: 0.9782 - val_loss: 0.0276 - val_acc: 0.9821\n",
      "Epoch 26/100\n",
      "32/32 [==============================] - 0s 4ms/step - loss: 0.0905 - acc: 0.9673 - val_loss: 0.0397 - val_acc: 0.9821\n",
      "Epoch 27/100\n",
      "32/32 [==============================] - 0s 4ms/step - loss: 0.1362 - acc: 0.9593 - val_loss: 0.1821 - val_acc: 0.9375\n",
      "Epoch 28/100\n",
      "32/32 [==============================] - 0s 4ms/step - loss: 0.1206 - acc: 0.9534 - val_loss: 0.1342 - val_acc: 0.9732\n",
      "Epoch 29/100\n",
      "32/32 [==============================] - 0s 4ms/step - loss: 0.1121 - acc: 0.9673 - val_loss: 0.1151 - val_acc: 0.9643\n",
      "Epoch 30/100\n",
      "32/32 [==============================] - 0s 4ms/step - loss: 0.1214 - acc: 0.9613 - val_loss: 0.0274 - val_acc: 0.9911\n",
      "Epoch 31/100\n",
      "32/32 [==============================] - 0s 4ms/step - loss: 0.0967 - acc: 0.9683 - val_loss: 0.0350 - val_acc: 0.9821\n",
      "Epoch 32/100\n",
      "32/32 [==============================] - 0s 4ms/step - loss: 0.1030 - acc: 0.9683 - val_loss: 0.0531 - val_acc: 0.9732\n",
      "Epoch 33/100\n",
      "32/32 [==============================] - 0s 4ms/step - loss: 0.1085 - acc: 0.9673 - val_loss: 0.0485 - val_acc: 0.9732\n",
      "Epoch 34/100\n",
      "32/32 [==============================] - 0s 3ms/step - loss: 0.1350 - acc: 0.9514 - val_loss: 0.1250 - val_acc: 0.9643\n",
      "Epoch 35/100\n",
      "32/32 [==============================] - 0s 4ms/step - loss: 0.1270 - acc: 0.9554 - val_loss: 0.1525 - val_acc: 0.9286\n",
      "Epoch 36/100\n",
      "32/32 [==============================] - 0s 4ms/step - loss: 0.1180 - acc: 0.9593 - val_loss: 0.0513 - val_acc: 0.9732\n",
      "Epoch 37/100\n",
      "32/32 [==============================] - 0s 4ms/step - loss: 0.1097 - acc: 0.9544 - val_loss: 0.0490 - val_acc: 0.9732\n",
      "Epoch 38/100\n",
      "32/32 [==============================] - 0s 5ms/step - loss: 0.0886 - acc: 0.9643 - val_loss: 0.1449 - val_acc: 0.9464\n",
      "Epoch 39/100\n",
      "32/32 [==============================] - 0s 5ms/step - loss: 0.1596 - acc: 0.9504 - val_loss: 0.0311 - val_acc: 0.9821\n",
      "Epoch 40/100\n",
      "32/32 [==============================] - 0s 4ms/step - loss: 0.1282 - acc: 0.9593 - val_loss: 0.0625 - val_acc: 0.9821\n",
      "Epoch 41/100\n",
      "32/32 [==============================] - 0s 4ms/step - loss: 0.1109 - acc: 0.9663 - val_loss: 0.0459 - val_acc: 0.9821\n",
      "Epoch 42/100\n",
      "32/32 [==============================] - 0s 4ms/step - loss: 0.0994 - acc: 0.9633 - val_loss: 0.0151 - val_acc: 1.0000\n",
      "Epoch 43/100\n",
      "32/32 [==============================] - 0s 4ms/step - loss: 0.0896 - acc: 0.9732 - val_loss: 0.0640 - val_acc: 0.9821\n",
      "Epoch 44/100\n",
      "32/32 [==============================] - 0s 4ms/step - loss: 0.0805 - acc: 0.9782 - val_loss: 0.0828 - val_acc: 0.9732\n",
      "Epoch 45/100\n",
      "32/32 [==============================] - 0s 4ms/step - loss: 0.0539 - acc: 0.9812 - val_loss: 0.0607 - val_acc: 0.9821\n",
      "Epoch 46/100\n",
      "32/32 [==============================] - 0s 4ms/step - loss: 0.0731 - acc: 0.9742 - val_loss: 0.0485 - val_acc: 0.9911\n",
      "Epoch 47/100\n",
      "32/32 [==============================] - 0s 4ms/step - loss: 0.0750 - acc: 0.9712 - val_loss: 0.1133 - val_acc: 0.9821\n",
      "Epoch 48/100\n",
      "32/32 [==============================] - 0s 4ms/step - loss: 0.0553 - acc: 0.9802 - val_loss: 0.0901 - val_acc: 0.9732\n",
      "Epoch 49/100\n",
      "32/32 [==============================] - 0s 4ms/step - loss: 0.1240 - acc: 0.9643 - val_loss: 0.0562 - val_acc: 0.9821\n",
      "Epoch 50/100\n",
      "32/32 [==============================] - 0s 4ms/step - loss: 0.1247 - acc: 0.9633 - val_loss: 0.1171 - val_acc: 0.9643\n",
      "Epoch 51/100\n",
      "32/32 [==============================] - 0s 4ms/step - loss: 0.0936 - acc: 0.9683 - val_loss: 0.0668 - val_acc: 0.9732\n",
      "Epoch 52/100\n",
      "32/32 [==============================] - 0s 4ms/step - loss: 0.1801 - acc: 0.9593 - val_loss: 0.0950 - val_acc: 0.9732\n",
      "Epoch 53/100\n",
      "32/32 [==============================] - 0s 4ms/step - loss: 0.1184 - acc: 0.9534 - val_loss: 0.2040 - val_acc: 0.9196\n",
      "Epoch 54/100\n",
      "32/32 [==============================] - 0s 4ms/step - loss: 0.1191 - acc: 0.9663 - val_loss: 0.0614 - val_acc: 0.9732\n",
      "Epoch 55/100\n",
      "32/32 [==============================] - 0s 4ms/step - loss: 0.0982 - acc: 0.9712 - val_loss: 0.0839 - val_acc: 0.9821\n",
      "Epoch 56/100\n",
      "32/32 [==============================] - 0s 4ms/step - loss: 0.0815 - acc: 0.9732 - val_loss: 0.0534 - val_acc: 0.9911\n",
      "Epoch 57/100\n",
      "32/32 [==============================] - 0s 4ms/step - loss: 0.0882 - acc: 0.9643 - val_loss: 0.0903 - val_acc: 0.9732\n",
      "Epoch 58/100\n",
      "32/32 [==============================] - 0s 4ms/step - loss: 0.0990 - acc: 0.9653 - val_loss: 0.1178 - val_acc: 0.9554\n",
      "Epoch 59/100\n",
      "32/32 [==============================] - 0s 4ms/step - loss: 0.0771 - acc: 0.9772 - val_loss: 0.0712 - val_acc: 0.9732\n",
      "Epoch 60/100\n",
      "32/32 [==============================] - 0s 4ms/step - loss: 0.0842 - acc: 0.9722 - val_loss: 0.1165 - val_acc: 0.9732\n",
      "Epoch 61/100\n",
      "32/32 [==============================] - 0s 4ms/step - loss: 0.0708 - acc: 0.9742 - val_loss: 0.0900 - val_acc: 0.9821\n",
      "Epoch 62/100\n",
      "32/32 [==============================] - 0s 4ms/step - loss: 0.0650 - acc: 0.9821 - val_loss: 0.1501 - val_acc: 0.9732\n",
      "Epoch 63/100\n",
      "32/32 [==============================] - 0s 4ms/step - loss: 0.0896 - acc: 0.9722 - val_loss: 0.0840 - val_acc: 0.9911\n",
      "Epoch 64/100\n",
      "32/32 [==============================] - 0s 4ms/step - loss: 0.0833 - acc: 0.9752 - val_loss: 0.0082 - val_acc: 1.0000\n",
      "Epoch 65/100\n",
      "32/32 [==============================] - 0s 4ms/step - loss: 0.0944 - acc: 0.9643 - val_loss: 0.0692 - val_acc: 0.9732\n",
      "Epoch 66/100\n",
      "32/32 [==============================] - 0s 4ms/step - loss: 0.1388 - acc: 0.9544 - val_loss: 0.0935 - val_acc: 0.9464\n",
      "Epoch 67/100\n",
      "32/32 [==============================] - 0s 5ms/step - loss: 0.0918 - acc: 0.9732 - val_loss: 0.0458 - val_acc: 0.9821\n",
      "Epoch 68/100\n",
      "32/32 [==============================] - 0s 5ms/step - loss: 0.1107 - acc: 0.9623 - val_loss: 0.0646 - val_acc: 0.9643\n",
      "Epoch 69/100\n",
      "32/32 [==============================] - 0s 4ms/step - loss: 0.0908 - acc: 0.9633 - val_loss: 0.1625 - val_acc: 0.9286\n",
      "Epoch 70/100\n",
      "32/32 [==============================] - 0s 4ms/step - loss: 0.1110 - acc: 0.9643 - val_loss: 0.1140 - val_acc: 0.9643\n",
      "Epoch 71/100\n",
      "32/32 [==============================] - 0s 4ms/step - loss: 0.1005 - acc: 0.9722 - val_loss: 0.0357 - val_acc: 0.9911\n",
      "Epoch 72/100\n",
      "32/32 [==============================] - 0s 4ms/step - loss: 0.0696 - acc: 0.9782 - val_loss: 0.1070 - val_acc: 0.9821\n",
      "Epoch 73/100\n",
      "32/32 [==============================] - 0s 4ms/step - loss: 0.0646 - acc: 0.9762 - val_loss: 0.0661 - val_acc: 0.9821\n",
      "Epoch 74/100\n",
      "32/32 [==============================] - 0s 4ms/step - loss: 0.0640 - acc: 0.9762 - val_loss: 0.1056 - val_acc: 0.9821\n",
      "Epoch 75/100\n",
      "32/32 [==============================] - 0s 4ms/step - loss: 0.0568 - acc: 0.9802 - val_loss: 0.0277 - val_acc: 0.9821\n",
      "Epoch 76/100\n",
      "32/32 [==============================] - 0s 4ms/step - loss: 0.0642 - acc: 0.9742 - val_loss: 0.0415 - val_acc: 0.9821\n",
      "Epoch 77/100\n",
      "32/32 [==============================] - 0s 3ms/step - loss: 0.0472 - acc: 0.9812 - val_loss: 0.1131 - val_acc: 0.9732\n",
      "Epoch 78/100\n",
      "32/32 [==============================] - 0s 4ms/step - loss: 0.0640 - acc: 0.9782 - val_loss: 0.0208 - val_acc: 0.9911\n",
      "Epoch 79/100\n",
      "32/32 [==============================] - 0s 4ms/step - loss: 0.0755 - acc: 0.9772 - val_loss: 0.0187 - val_acc: 0.9911\n",
      "Epoch 80/100\n",
      "32/32 [==============================] - 0s 4ms/step - loss: 0.0775 - acc: 0.9742 - val_loss: 0.1163 - val_acc: 0.9643\n",
      "Epoch 81/100\n",
      "32/32 [==============================] - 0s 4ms/step - loss: 0.0838 - acc: 0.9742 - val_loss: 0.0991 - val_acc: 0.9643\n",
      "Epoch 82/100\n",
      "32/32 [==============================] - 0s 4ms/step - loss: 0.0776 - acc: 0.9653 - val_loss: 0.0831 - val_acc: 0.9732\n",
      "Epoch 83/100\n",
      "32/32 [==============================] - 0s 5ms/step - loss: 0.0743 - acc: 0.9732 - val_loss: 0.0961 - val_acc: 0.9821\n",
      "Epoch 84/100\n",
      "32/32 [==============================] - 0s 4ms/step - loss: 0.0911 - acc: 0.9702 - val_loss: 0.0438 - val_acc: 0.9821\n",
      "Epoch 85/100\n",
      "32/32 [==============================] - 0s 4ms/step - loss: 0.1213 - acc: 0.9593 - val_loss: 0.0481 - val_acc: 0.9732\n",
      "Epoch 86/100\n",
      "32/32 [==============================] - 0s 4ms/step - loss: 0.0760 - acc: 0.9732 - val_loss: 0.0253 - val_acc: 0.9821\n",
      "Epoch 87/100\n",
      "32/32 [==============================] - 0s 4ms/step - loss: 0.0998 - acc: 0.9663 - val_loss: 0.1906 - val_acc: 0.9286\n",
      "Epoch 88/100\n",
      "32/32 [==============================] - 0s 4ms/step - loss: 0.0982 - acc: 0.9683 - val_loss: 0.0294 - val_acc: 1.0000\n",
      "Epoch 89/100\n",
      "32/32 [==============================] - 0s 4ms/step - loss: 0.0825 - acc: 0.9732 - val_loss: 0.0832 - val_acc: 0.9821\n",
      "Epoch 90/100\n",
      "32/32 [==============================] - 0s 4ms/step - loss: 0.1058 - acc: 0.9633 - val_loss: 0.1098 - val_acc: 0.9464\n",
      "Epoch 91/100\n",
      "32/32 [==============================] - 0s 4ms/step - loss: 0.0760 - acc: 0.9742 - val_loss: 0.1386 - val_acc: 0.9643\n",
      "Epoch 92/100\n",
      "32/32 [==============================] - 0s 4ms/step - loss: 0.1155 - acc: 0.9593 - val_loss: 0.0775 - val_acc: 0.9821\n",
      "Epoch 93/100\n",
      "32/32 [==============================] - 0s 4ms/step - loss: 0.1112 - acc: 0.9563 - val_loss: 0.0207 - val_acc: 0.9911\n",
      "Epoch 94/100\n",
      "32/32 [==============================] - 0s 4ms/step - loss: 0.1140 - acc: 0.9702 - val_loss: 0.0913 - val_acc: 0.9554\n"
     ]
    },
    {
     "data": {
      "text/plain": [
       "<keras.callbacks.History at 0x1ef9eeac340>"
      ]
     },
     "execution_count": 42,
     "metadata": {},
     "output_type": "execute_result"
    }
   ],
   "source": [
    "#학습 시작\n",
    "model.fit(\n",
    "        X_train, #손동작 좌표와 각도 데이터\n",
    "        y_train, #어떤 손동작인지 데이터 A -> 1000000000 B->0100000000 C->0010000000 .. J ->0000000001\n",
    "        validation_data=(X_test, y_test), #테스트데이터 한번 학습이 끝날때 마다 검증\n",
    "        epochs=100,         #100 번 반복해서 A,B,C .. J 손 좌표와 각도의 패턴을 파악\n",
    "        callbacks=[cb_checkpoint, earlystopping] # 학습시 가장 정확도가 높은 LSTM객체를 저장\n",
    "         )"
   ]
  },
  {
   "cell_type": "code",
   "execution_count": null,
   "id": "ae62a8fd-a814-40d9-ac75-7d69fdc5e4b8",
   "metadata": {},
   "outputs": [],
   "source": []
  }
 ],
 "metadata": {
  "kernelspec": {
   "display_name": "Python 3 (ipykernel)",
   "language": "python",
   "name": "python3"
  },
  "language_info": {
   "codemirror_mode": {
    "name": "ipython",
    "version": 3
   },
   "file_extension": ".py",
   "mimetype": "text/x-python",
   "name": "python",
   "nbconvert_exporter": "python",
   "pygments_lexer": "ipython3",
   "version": "3.10.14"
  }
 },
 "nbformat": 4,
 "nbformat_minor": 5
}
